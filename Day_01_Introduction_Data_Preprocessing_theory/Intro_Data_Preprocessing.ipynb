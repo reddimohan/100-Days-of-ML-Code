{
 "cells": [
  {
   "cell_type": "markdown",
   "metadata": {},
   "source": [
    "## 100 Days Of Machine Learning - LOG\n",
    "#### Two reasons why I am going to log/document my everyday progress here is, \n",
    "1. To keep track of my work\n",
    "2. To prepare a document sequentially based on my learning, so that It will help to other newbie's.\n",
    "\n",
    "### Day 1: August 26, 2018\n",
    "\n",
    "**Today's Progress** : \n",
    "* Basic understanding of Machine learning - source: Andrew Ng course from Coursera\n",
    "* Types Machine learning\n",
    "\t* Supervised learning - The main goal in supervised learning is to learn a model from labeled training data that allows us to make predictions about unseen or future data.\n",
    "\t* Unsupervised learning - Here we deal with un-labelled data of unknown structure. This technique allows pile of information into meaningful subgroups (clusters) without having any prior knowledge of their group memberships.\n",
    "\t* Reinforcement learning - In reinforcement learning, the goal is to develop a system (agent) that improves its performance based on interactions with the environment \n",
    "\n",
    "* Importing libraries\n",
    "* Reading datasets using pandas and numpy libraries\n",
    "* Read about Data Preprocessing\n",
    "    *    Handling missing data in dataset\n",
    "    * Handling Categorical variables (3 types)\n",
    "\t    * LabelEncoder\n",
    "\t    * RangeEncoder\n",
    "\t    * OneHotEncoders\n",
    "\n",
    "#### I will do some practicals tomorrow based on today readings and upload here."
   ]
  },
  {
   "cell_type": "code",
   "execution_count": null,
   "metadata": {},
   "outputs": [],
   "source": []
  }
 ],
 "metadata": {
  "kernelspec": {
   "display_name": "Python [conda env:ml35]",
   "language": "python",
   "name": "conda-env-ml35-py"
  },
  "language_info": {
   "codemirror_mode": {
    "name": "ipython",
    "version": 3
   },
   "file_extension": ".py",
   "mimetype": "text/x-python",
   "name": "python",
   "nbconvert_exporter": "python",
   "pygments_lexer": "ipython3",
   "version": "3.5.5"
  }
 },
 "nbformat": 4,
 "nbformat_minor": 2
}
